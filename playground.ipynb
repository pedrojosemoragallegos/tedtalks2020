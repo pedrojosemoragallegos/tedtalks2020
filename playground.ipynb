{
 "cells": [
  {
   "cell_type": "markdown",
   "metadata": {},
   "source": [
    "# Imports"
   ]
  },
  {
   "cell_type": "code",
   "execution_count": 101,
   "metadata": {},
   "outputs": [],
   "source": [
    "from typing import Optional\n",
    "from typing import Union"
   ]
  },
  {
   "cell_type": "code",
   "execution_count": 102,
   "metadata": {},
   "outputs": [],
   "source": [
    "from pathlib import Path\n",
    "import requests\n",
    "import gzip\n",
    "import json\n",
    "import pandas as pd\n",
    "from transformers import AutoTokenizer, AutoModelForSequenceClassification\n",
    "import torch\n",
    "\n",
    "from tqdm import tqdm\n",
    "tqdm.pandas()\n",
    "\n",
    "import seaborn as sns\n",
    "import matplotlib.pyplot as plt"
   ]
  },
  {
   "cell_type": "markdown",
   "metadata": {},
   "source": [
    "# Global"
   ]
  },
  {
   "cell_type": "code",
   "execution_count": 130,
   "metadata": {},
   "outputs": [],
   "source": [
    "DEVICE = torch.device(\"cuda\" if torch.cuda.is_available() else \"cpu\")"
   ]
  },
  {
   "cell_type": "code",
   "execution_count": 103,
   "metadata": {},
   "outputs": [],
   "source": [
    "DE_CORPUS_URL: str = 'https://object.pouta.csc.fi/OPUS-TED2020/v1/mono/de.txt.gz'\n",
    "EN_CORPUS_URL: str = 'https://object.pouta.csc.fi/OPUS-TED2020/v1/mono/en.txt.gz'"
   ]
  },
  {
   "cell_type": "code",
   "execution_count": 104,
   "metadata": {},
   "outputs": [],
   "source": [
    "DATA_PATH: Path = Path('data')\n",
    "DE_EN_CORPUS_PATH: Path = Path.joinpath(DATA_PATH, 'de_en.json')\n",
    "DE_EN_SENTIMENT_CORPUS_PATH: Path = Path.joinpath(DATA_PATH, 'de_en_sentiment.json')"
   ]
  },
  {
   "cell_type": "markdown",
   "metadata": {},
   "source": [
    "# Utils"
   ]
  },
  {
   "cell_type": "code",
   "execution_count": 105,
   "metadata": {},
   "outputs": [],
   "source": [
    "def download_file(\n",
    "    url: str, \n",
    "    *,\n",
    "    force: bool = False\n",
    ") -> Path: \n",
    "    file_name: str = url.split('/')[-1]\n",
    "    file_path: Path = Path.joinpath(DATA_PATH, file_name)\n",
    "    \n",
    "    if file_path.exists() and not force: \n",
    "        return file_path\n",
    "    \n",
    "    try:\n",
    "        response: requests.Response = requests.get(url, stream=True)\n",
    "        \n",
    "        with file_path.open('wb') as file: \n",
    "            file.write(response.content)\n",
    "            return file_path\n",
    "    except Exception as e: \n",
    "        raise ValueError(f'An error occured: {e}')"
   ]
  },
  {
   "cell_type": "code",
   "execution_count": 106,
   "metadata": {},
   "outputs": [],
   "source": [
    "def unzip_file(\n",
    "    file_path_in: Path,\n",
    "    *,\n",
    "    file_path_out: Optional[Path] = None,\n",
    "    remove_gz: bool = False\n",
    ") -> Path:\n",
    "    if file_path_in.suffix != '.gz':\n",
    "        raise ValueError(f'File Path {file_path_in} is not a \".gz\" file')\n",
    "\n",
    "    if not file_path_out:\n",
    "        file_path_out = file_path_in.with_suffix('')  # Removes the .gz suffix\n",
    "\n",
    "    with gzip.open(file_path_in, 'rb') as file_in:\n",
    "        with open(file_path_out, 'wb') as file_out:\n",
    "            file_out.write(file_in.read())\n",
    "\n",
    "    if remove_gz:\n",
    "        file_path_in.unlink()\n",
    "\n",
    "    return file_path_out"
   ]
  },
  {
   "cell_type": "code",
   "execution_count": 107,
   "metadata": {},
   "outputs": [],
   "source": [
    "def hgf_sentiment_analyser(\n",
    "    inputs: list[str],\n",
    "    *,\n",
    "    device: str,\n",
    "    tokenizer: callable, # TODO correct typing\n",
    "    model: callable # TODO correct typing,\n",
    ") -> list[list[float]]:\n",
    "    model.to(device)\n",
    "\n",
    "    inputs = tokenizer(inputs, return_tensors=\"pt\", padding=True, truncation=True, max_length=512)\n",
    "    \n",
    "    inputs = {k: v.to(device) for k, v in inputs.items()}\n",
    "    \n",
    "    with torch.no_grad():\n",
    "        logits = model(**inputs).logits\n",
    "\n",
    "    probabilities = torch.nn.functional.softmax(logits, dim=1)\n",
    "\n",
    "    return probabilities"
   ]
  },
  {
   "cell_type": "markdown",
   "metadata": {},
   "source": [
    "# Download Data"
   ]
  },
  {
   "cell_type": "code",
   "execution_count": 108,
   "metadata": {},
   "outputs": [],
   "source": [
    "if not DATA_PATH.exists(): \n",
    "    DATA_PATH.mkdir()"
   ]
  },
  {
   "cell_type": "code",
   "execution_count": 109,
   "metadata": {},
   "outputs": [],
   "source": [
    "DE_CORPUS_FILE_PATH: Path = download_file(DE_CORPUS_URL)\n",
    "DE_CORPUS_FILE_PATH = unzip_file(DE_CORPUS_FILE_PATH)"
   ]
  },
  {
   "cell_type": "code",
   "execution_count": 110,
   "metadata": {},
   "outputs": [],
   "source": [
    "EN_CORPUS_FILE_PATH: Path = download_file(EN_CORPUS_URL)\n",
    "EN_CORPUS_FILE_PATH = unzip_file(EN_CORPUS_FILE_PATH)"
   ]
  },
  {
   "cell_type": "markdown",
   "metadata": {},
   "source": [
    "# Make Parallel Corpus"
   ]
  },
  {
   "cell_type": "code",
   "execution_count": 111,
   "metadata": {},
   "outputs": [],
   "source": [
    "de_corpus: list[str] = [s for s in DE_CORPUS_FILE_PATH.open('r')]\n",
    "en_corpus: list[str] = [s for s in EN_CORPUS_FILE_PATH.open('r')]"
   ]
  },
  {
   "cell_type": "code",
   "execution_count": 112,
   "metadata": {},
   "outputs": [],
   "source": [
    "parallel_corpus: list[tuple[str, str]] = list(zip(de_corpus, en_corpus))"
   ]
  },
  {
   "cell_type": "code",
   "execution_count": 113,
   "metadata": {},
   "outputs": [],
   "source": [
    "with DE_EN_CORPUS_PATH.open('w') as de_en_file: \n",
    "    de_en_file.write(json.dumps(parallel_corpus, indent=4))"
   ]
  },
  {
   "cell_type": "markdown",
   "metadata": {},
   "source": [
    "# Data"
   ]
  },
  {
   "cell_type": "code",
   "execution_count": 114,
   "metadata": {},
   "outputs": [],
   "source": [
    "DE_EN_DF: pd.DataFrame = pd.read_json(DE_EN_CORPUS_PATH)\n",
    "DE_EN_DF.columns = ['DE', 'EN']"
   ]
  },
  {
   "cell_type": "code",
   "execution_count": 115,
   "metadata": {},
   "outputs": [
    {
     "data": {
      "text/html": [
       "<div>\n",
       "<style scoped>\n",
       "    .dataframe tbody tr th:only-of-type {\n",
       "        vertical-align: middle;\n",
       "    }\n",
       "\n",
       "    .dataframe tbody tr th {\n",
       "        vertical-align: top;\n",
       "    }\n",
       "\n",
       "    .dataframe thead th {\n",
       "        text-align: right;\n",
       "    }\n",
       "</style>\n",
       "<table border=\"1\" class=\"dataframe\">\n",
       "  <thead>\n",
       "    <tr style=\"text-align: right;\">\n",
       "      <th></th>\n",
       "      <th>DE</th>\n",
       "      <th>EN</th>\n",
       "    </tr>\n",
       "  </thead>\n",
       "  <tbody>\n",
       "    <tr>\n",
       "      <th>0</th>\n",
       "      <td>In der Mitte des 16ten Jahrhunderts waren die ...</td>\n",
       "      <td>In the mid-16th century, Italians were captiva...</td>\n",
       "    </tr>\n",
       "    <tr>\n",
       "      <th>1</th>\n",
       "      <td>Diese Gabe kam jedoch mit einem schweren Preis.\\n</td>\n",
       "      <td>However, this gift came at a high price.\\n</td>\n",
       "    </tr>\n",
       "    <tr>\n",
       "      <th>2</th>\n",
       "      <td>Um ihren Stimmbruch zu verhindern, wurden die ...</td>\n",
       "      <td>To prevent their voices from breaking, these s...</td>\n",
       "    </tr>\n",
       "    <tr>\n",
       "      <th>3</th>\n",
       "      <td>Bekannt als \"Castrati\", waren ihre hellen, him...</td>\n",
       "      <td>Known as castrati, their light, angelic voices...</td>\n",
       "    </tr>\n",
       "    <tr>\n",
       "      <th>4</th>\n",
       "      <td>Obwohl das Hemmen des Stimmwachstums eine ungl...</td>\n",
       "      <td>Though stunting vocal growth can produce an ex...</td>\n",
       "    </tr>\n",
       "  </tbody>\n",
       "</table>\n",
       "</div>"
      ],
      "text/plain": [
       "                                                  DE  \\\n",
       "0  In der Mitte des 16ten Jahrhunderts waren die ...   \n",
       "1  Diese Gabe kam jedoch mit einem schweren Preis.\\n   \n",
       "2  Um ihren Stimmbruch zu verhindern, wurden die ...   \n",
       "3  Bekannt als \"Castrati\", waren ihre hellen, him...   \n",
       "4  Obwohl das Hemmen des Stimmwachstums eine ungl...   \n",
       "\n",
       "                                                  EN  \n",
       "0  In the mid-16th century, Italians were captiva...  \n",
       "1         However, this gift came at a high price.\\n  \n",
       "2  To prevent their voices from breaking, these s...  \n",
       "3  Known as castrati, their light, angelic voices...  \n",
       "4  Though stunting vocal growth can produce an ex...  "
      ]
     },
     "execution_count": 115,
     "metadata": {},
     "output_type": "execute_result"
    }
   ],
   "source": [
    "DE_EN_DF.head()"
   ]
  },
  {
   "cell_type": "code",
   "execution_count": 116,
   "metadata": {},
   "outputs": [
    {
     "name": "stdout",
     "output_type": "stream",
     "text": [
      "<class 'pandas.core.frame.DataFrame'>\n",
      "RangeIndex: 339766 entries, 0 to 339765\n",
      "Data columns (total 2 columns):\n",
      " #   Column  Non-Null Count   Dtype \n",
      "---  ------  --------------   ----- \n",
      " 0   DE      339766 non-null  object\n",
      " 1   EN      339766 non-null  object\n",
      "dtypes: object(2)\n",
      "memory usage: 5.2+ MB\n"
     ]
    }
   ],
   "source": [
    "DE_EN_DF.info()"
   ]
  },
  {
   "cell_type": "code",
   "execution_count": 117,
   "metadata": {},
   "outputs": [],
   "source": [
    "# TEST\n",
    "# DE_EN_DF = DE_EN_DF.sample(5)"
   ]
  },
  {
   "cell_type": "markdown",
   "metadata": {},
   "source": [
    "# Exploratory Data Analysis"
   ]
  },
  {
   "cell_type": "markdown",
   "metadata": {},
   "source": []
  },
  {
   "cell_type": "markdown",
   "metadata": {},
   "source": [
    "# Sentiment Analysis (Inference)"
   ]
  },
  {
   "cell_type": "markdown",
   "metadata": {},
   "source": [
    "https://huggingface.co/nlptown/bert-base-multilingual-uncased-sentiment"
   ]
  },
  {
   "cell_type": "code",
   "execution_count": 118,
   "metadata": {},
   "outputs": [],
   "source": [
    "TOKENIZER = AutoTokenizer.from_pretrained(\"nlptown/bert-base-multilingual-uncased-sentiment\") # TODO correct typing\n",
    "MODEL = AutoModelForSequenceClassification.from_pretrained(\"nlptown/bert-base-multilingual-uncased-sentiment\") # TODO correct typing"
   ]
  },
  {
   "cell_type": "code",
   "execution_count": 119,
   "metadata": {},
   "outputs": [
    {
     "name": "stderr",
     "output_type": "stream",
     "text": [
      "Progress German Texts:: 100%|██████████| 5/5 [00:00<00:00,  5.97it/s]\n"
     ]
    }
   ],
   "source": [
    "tqdm.pandas(desc='Progress German Texts:')\n",
    "de_sentiments_df: pd.DataFrame = DE_EN_DF['DE'].progress_apply(lambda text: hgf_sentiment_analyser(list(text), tokenizer=TOKENIZER, model=MODEL).tolist()[0]).apply(pd.Series)"
   ]
  },
  {
   "cell_type": "code",
   "execution_count": 120,
   "metadata": {},
   "outputs": [
    {
     "name": "stderr",
     "output_type": "stream",
     "text": [
      "Progress English Texts:: 100%|██████████| 5/5 [00:00<00:00, 11.69it/s]\n"
     ]
    }
   ],
   "source": [
    "tqdm.pandas(desc='Progress English Texts:')\n",
    "en_sentiments_df: pd.DataFrame = DE_EN_DF['EN'].progress_apply(lambda text: hgf_sentiment_analyser(list(text), tokenizer=TOKENIZER, model=MODEL).tolist()[0]).apply(pd.Series)"
   ]
  },
  {
   "cell_type": "code",
   "execution_count": 121,
   "metadata": {},
   "outputs": [],
   "source": [
    "de_sentiments_df.columns = ['DE_-2', 'DE_-1', 'DE_0', 'DE_1', 'DE_2']\n",
    "en_sentiments_df.columns = ['EN_-2', 'EN_-1', 'EN_0', 'EN_1', 'EN_2']"
   ]
  },
  {
   "cell_type": "code",
   "execution_count": 122,
   "metadata": {},
   "outputs": [],
   "source": [
    "DE_EN_DF = pd.concat([DE_EN_DF, de_sentiments_df, en_sentiments_df], axis=1)"
   ]
  },
  {
   "cell_type": "code",
   "execution_count": 123,
   "metadata": {},
   "outputs": [],
   "source": [
    "DE_EN_DF['DE_sentiment'] = DE_EN_DF.filter(like='DE_').idxmax(axis=1)\n",
    "DE_EN_DF['DE_sentiment'] = DE_EN_DF['DE_sentiment'].apply(lambda x: int(x.split('_')[-1]))"
   ]
  },
  {
   "cell_type": "code",
   "execution_count": 124,
   "metadata": {},
   "outputs": [],
   "source": [
    "DE_EN_DF['EN_sentiment'] = DE_EN_DF.filter(like='EN_').idxmax(axis=1)\n",
    "DE_EN_DF['EN_sentiment'] = DE_EN_DF['EN_sentiment'].apply(lambda x: int(x.split('_')[-1]))"
   ]
  },
  {
   "cell_type": "code",
   "execution_count": 125,
   "metadata": {},
   "outputs": [
    {
     "data": {
      "text/html": [
       "<div>\n",
       "<style scoped>\n",
       "    .dataframe tbody tr th:only-of-type {\n",
       "        vertical-align: middle;\n",
       "    }\n",
       "\n",
       "    .dataframe tbody tr th {\n",
       "        vertical-align: top;\n",
       "    }\n",
       "\n",
       "    .dataframe thead th {\n",
       "        text-align: right;\n",
       "    }\n",
       "</style>\n",
       "<table border=\"1\" class=\"dataframe\">\n",
       "  <thead>\n",
       "    <tr style=\"text-align: right;\">\n",
       "      <th></th>\n",
       "      <th>DE</th>\n",
       "      <th>EN</th>\n",
       "      <th>DE_-2</th>\n",
       "      <th>DE_-1</th>\n",
       "      <th>DE_0</th>\n",
       "      <th>DE_1</th>\n",
       "      <th>DE_2</th>\n",
       "      <th>EN_-2</th>\n",
       "      <th>EN_-1</th>\n",
       "      <th>EN_0</th>\n",
       "      <th>EN_1</th>\n",
       "      <th>EN_2</th>\n",
       "      <th>DE_sentiment</th>\n",
       "      <th>EN_sentiment</th>\n",
       "    </tr>\n",
       "  </thead>\n",
       "  <tbody>\n",
       "    <tr>\n",
       "      <th>234558</th>\n",
       "      <td>Bedenken Sie: Kanada ist heute eines der offen...</td>\n",
       "      <td>OK.\\n</td>\n",
       "      <td>0.122102</td>\n",
       "      <td>0.162249</td>\n",
       "      <td>0.291120</td>\n",
       "      <td>0.240129</td>\n",
       "      <td>0.184400</td>\n",
       "      <td>0.211140</td>\n",
       "      <td>0.153613</td>\n",
       "      <td>0.275090</td>\n",
       "      <td>0.175653</td>\n",
       "      <td>0.184504</td>\n",
       "      <td>0</td>\n",
       "      <td>0</td>\n",
       "    </tr>\n",
       "    <tr>\n",
       "      <th>87962</th>\n",
       "      <td>In seinem Vortrag erklärt er Physik als die Ge...</td>\n",
       "      <td>They make up about one percent of all cancers.\\n</td>\n",
       "      <td>0.132146</td>\n",
       "      <td>0.136207</td>\n",
       "      <td>0.237621</td>\n",
       "      <td>0.245278</td>\n",
       "      <td>0.248748</td>\n",
       "      <td>0.138471</td>\n",
       "      <td>0.129671</td>\n",
       "      <td>0.187644</td>\n",
       "      <td>0.224216</td>\n",
       "      <td>0.319997</td>\n",
       "      <td>2</td>\n",
       "      <td>2</td>\n",
       "    </tr>\n",
       "    <tr>\n",
       "      <th>17206</th>\n",
       "      <td>Sie sind wirklich vorsichtig bei dem, was sie ...</td>\n",
       "      <td>A loud noise will get your fight-or-flight res...</td>\n",
       "      <td>0.107244</td>\n",
       "      <td>0.098929</td>\n",
       "      <td>0.200503</td>\n",
       "      <td>0.301680</td>\n",
       "      <td>0.291644</td>\n",
       "      <td>0.086779</td>\n",
       "      <td>0.074684</td>\n",
       "      <td>0.228180</td>\n",
       "      <td>0.318707</td>\n",
       "      <td>0.291649</td>\n",
       "      <td>1</td>\n",
       "      <td>1</td>\n",
       "    </tr>\n",
       "    <tr>\n",
       "      <th>178390</th>\n",
       "      <td>Das ist ein Stück Geschichte, verpackt in Math...</td>\n",
       "      <td>You see, this is a human brain model, OK?\\n</td>\n",
       "      <td>0.160353</td>\n",
       "      <td>0.160295</td>\n",
       "      <td>0.249987</td>\n",
       "      <td>0.205827</td>\n",
       "      <td>0.223538</td>\n",
       "      <td>0.090636</td>\n",
       "      <td>0.102885</td>\n",
       "      <td>0.180398</td>\n",
       "      <td>0.295041</td>\n",
       "      <td>0.331039</td>\n",
       "      <td>0</td>\n",
       "      <td>2</td>\n",
       "    </tr>\n",
       "    <tr>\n",
       "      <th>331259</th>\n",
       "      <td>Die Menschen beherrschen den Planeten, weil si...</td>\n",
       "      <td>So I actually was interested enough in this to...</td>\n",
       "      <td>0.160353</td>\n",
       "      <td>0.160295</td>\n",
       "      <td>0.249987</td>\n",
       "      <td>0.205827</td>\n",
       "      <td>0.223538</td>\n",
       "      <td>0.107244</td>\n",
       "      <td>0.098929</td>\n",
       "      <td>0.200503</td>\n",
       "      <td>0.301680</td>\n",
       "      <td>0.291644</td>\n",
       "      <td>0</td>\n",
       "      <td>1</td>\n",
       "    </tr>\n",
       "  </tbody>\n",
       "</table>\n",
       "</div>"
      ],
      "text/plain": [
       "                                                       DE  \\\n",
       "234558  Bedenken Sie: Kanada ist heute eines der offen...   \n",
       "87962   In seinem Vortrag erklärt er Physik als die Ge...   \n",
       "17206   Sie sind wirklich vorsichtig bei dem, was sie ...   \n",
       "178390  Das ist ein Stück Geschichte, verpackt in Math...   \n",
       "331259  Die Menschen beherrschen den Planeten, weil si...   \n",
       "\n",
       "                                                       EN     DE_-2     DE_-1  \\\n",
       "234558                                              OK.\\n  0.122102  0.162249   \n",
       "87962    They make up about one percent of all cancers.\\n  0.132146  0.136207   \n",
       "17206   A loud noise will get your fight-or-flight res...  0.107244  0.098929   \n",
       "178390        You see, this is a human brain model, OK?\\n  0.160353  0.160295   \n",
       "331259  So I actually was interested enough in this to...  0.160353  0.160295   \n",
       "\n",
       "            DE_0      DE_1      DE_2     EN_-2     EN_-1      EN_0      EN_1  \\\n",
       "234558  0.291120  0.240129  0.184400  0.211140  0.153613  0.275090  0.175653   \n",
       "87962   0.237621  0.245278  0.248748  0.138471  0.129671  0.187644  0.224216   \n",
       "17206   0.200503  0.301680  0.291644  0.086779  0.074684  0.228180  0.318707   \n",
       "178390  0.249987  0.205827  0.223538  0.090636  0.102885  0.180398  0.295041   \n",
       "331259  0.249987  0.205827  0.223538  0.107244  0.098929  0.200503  0.301680   \n",
       "\n",
       "            EN_2  DE_sentiment  EN_sentiment  \n",
       "234558  0.184504             0             0  \n",
       "87962   0.319997             2             2  \n",
       "17206   0.291649             1             1  \n",
       "178390  0.331039             0             2  \n",
       "331259  0.291644             0             1  "
      ]
     },
     "execution_count": 125,
     "metadata": {},
     "output_type": "execute_result"
    }
   ],
   "source": [
    "DE_EN_DF.head()"
   ]
  },
  {
   "cell_type": "code",
   "execution_count": 128,
   "metadata": {},
   "outputs": [
    {
     "data": {
      "image/png": "[encoded data removed]",
      "text/plain": [
       "<Figure size 1000x600 with 1 Axes>"
      ]
     },
     "metadata": {},
     "output_type": "display_data"
    }
   ],
   "source": [
    "sentiment_counts = DE_EN_DF[\"DE_sentiment\"].value_counts().sort_index()\n",
    "\n",
    "plt.figure(figsize=(10, 6))\n",
    "plt.bar(sentiment_counts.index, sentiment_counts.values, color='skyblue', edgecolor='k', alpha=0.7)\n",
    "plt.title('Distribution of DE_sentiment Scores')\n",
    "plt.xlabel('Sentiment Score')\n",
    "plt.ylabel('Frequency')\n",
    "plt.xticks(sentiment_counts.index)  \n",
    "plt.grid(axis='y', alpha=0.75)"
   ]
  },
  {
   "cell_type": "markdown",
   "metadata": {},
   "source": [
    "# Store to Disk"
   ]
  },
  {
   "cell_type": "code",
   "execution_count": 129,
   "metadata": {},
   "outputs": [],
   "source": [
    "DE_EN_DF.to_json(DE_EN_SENTIMENT_CORPUS_PATH, orient='records', lines=True)"
   ]
  }
 ],
 "metadata": {
  "kernelspec": {
   "display_name": "Python 3",
   "language": "python",
   "name": "python3"
  },
  "language_info": {
   "codemirror_mode": {
    "name": "ipython",
    "version": 3
   },
   "file_extension": ".py",
   "mimetype": "text/x-python",
   "name": "python",
   "nbconvert_exporter": "python",
   "pygments_lexer": "ipython3",
   "version": "3.12.2"
  }
 },
 "nbformat": 4,
 "nbformat_minor": 2
}
