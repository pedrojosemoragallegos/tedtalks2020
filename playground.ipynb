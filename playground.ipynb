{
 "cells": [
  {
   "cell_type": "markdown",
   "metadata": {},
   "source": [
    "# Imports"
   ]
  },
  {
   "cell_type": "code",
   "execution_count": null,
   "metadata": {},
   "outputs": [],
   "source": [
    "from typing import Optional"
   ]
  },
  {
   "cell_type": "code",
   "execution_count": null,
   "metadata": {},
   "outputs": [],
   "source": [
    "from pathlib import Path\n",
    "import requests\n",
    "import gzip\n",
    "import json\n",
    "import pandas as pd\n",
    "from transformers import AutoTokenizer, AutoModelForSequenceClassification\n",
    "import torch\n",
    "\n",
    "from tqdm import tqdm\n",
    "tqdm.pandas()\n",
    "\n",
    "import seaborn as sns\n",
    "import matplotlib.pyplot as plt"
   ]
  },
  {
   "cell_type": "markdown",
   "metadata": {},
   "source": [
    "# Global"
   ]
  },
  {
   "cell_type": "code",
   "execution_count": null,
   "metadata": {},
   "outputs": [],
   "source": [
    "DEVICE = torch.device(\"cuda\" if torch.cuda.is_available() else \"cpu\")"
   ]
  },
  {
   "cell_type": "code",
   "execution_count": null,
   "metadata": {},
   "outputs": [],
   "source": [
    "CORPUS_URL: str = 'https://object.pouta.csc.fi/OPUS-TED2020/v1/tmx/de-en.tmx.gz'"
   ]
  },
  {
   "cell_type": "code",
   "execution_count": null,
   "metadata": {},
   "outputs": [],
   "source": [
    "DATA_PATH: Path = Path('data')\n",
    "CORPUS_PATH: Path = Path.joinpath(DATA_PATH, 'de-en.tmx')\n",
    "CORPUS_DE_PATH: Path = Path.joinpath(DATA_PATH, 'de.json')\n",
    "CORPUS_EN_PATH: Path = Path.joinpath(DATA_PATH, 'en.json')"
   ]
  },
  {
   "cell_type": "markdown",
   "metadata": {},
   "source": [
    "# Utils"
   ]
  },
  {
   "cell_type": "code",
   "execution_count": null,
   "metadata": {},
   "outputs": [],
   "source": [
    "def download_file(\n",
    "    url: str, \n",
    "    *,\n",
    "    force: bool = False\n",
    ") -> Path: \n",
    "    file_name: str = url.split('/')[-1]\n",
    "    file_path: Path = Path.joinpath(DATA_PATH, file_name)\n",
    "    \n",
    "    if file_path.exists() and not force: \n",
    "        return file_path\n",
    "    \n",
    "    try:\n",
    "        response: requests.Response = requests.get(url, stream=True)\n",
    "        \n",
    "        with file_path.open('wb') as file: \n",
    "            file.write(response.content)\n",
    "            return file_path\n",
    "    except Exception as e: \n",
    "        raise ValueError(f'An error occured: {e}')"
   ]
  },
  {
   "cell_type": "code",
   "execution_count": null,
   "metadata": {},
   "outputs": [],
   "source": [
    "def unzip_file(\n",
    "    file_path_in: Path,\n",
    "    *,\n",
    "    file_path_out: Optional[Path] = None,\n",
    "    remove_gz: bool = False\n",
    ") -> Path:\n",
    "    if file_path_in.suffix != '.gz':\n",
    "        raise ValueError(f'File Path {file_path_in} is not a \".gz\" file')\n",
    "\n",
    "    if not file_path_out:\n",
    "        file_path_out = file_path_in.with_suffix('')  # Removes the .gz suffix\n",
    "\n",
    "    with gzip.open(file_path_in, 'rb') as file_in:\n",
    "        with open(file_path_out, 'wb') as file_out:\n",
    "            file_out.write(file_in.read())\n",
    "\n",
    "    if remove_gz:\n",
    "        file_path_in.unlink()\n",
    "\n",
    "    return file_path_out"
   ]
  },
  {
   "cell_type": "code",
   "execution_count": null,
   "metadata": {},
   "outputs": [],
   "source": [
    "def hgf_sentiment_analyser(\n",
    "    inputs: list[str],\n",
    "    *,\n",
    "    device: str,\n",
    "    tokenizer: callable, # TODO correct typing\n",
    "    model: callable # TODO correct typing,\n",
    ") -> list[list[float]]:\n",
    "    model.to(device)\n",
    "\n",
    "    inputs = tokenizer(inputs, return_tensors=\"pt\", padding=True, truncation=True, max_length=512)\n",
    "    \n",
    "    inputs = {k: v.to(device) for k, v in inputs.items()}\n",
    "    \n",
    "    with torch.no_grad():\n",
    "        logits = model(**inputs).logits\n",
    "\n",
    "    probabilities = torch.nn.functional.softmax(logits, dim=1)\n",
    "\n",
    "    return probabilities"
   ]
  },
  {
   "cell_type": "markdown",
   "metadata": {},
   "source": [
    "# Download Data"
   ]
  },
  {
   "cell_type": "code",
   "execution_count": null,
   "metadata": {},
   "outputs": [],
   "source": [
    "if not DATA_PATH.exists(): \n",
    "    DATA_PATH.mkdir()"
   ]
  },
  {
   "cell_type": "code",
   "execution_count": null,
   "metadata": {},
   "outputs": [],
   "source": [
    "CORPUS_FILE_PATH: Path = download_file(CORPUS_URL)\n",
    "CORPUS_FILE_PATH: str = unzip_file(CORPUS_FILE_PATH)"
   ]
  },
  {
   "cell_type": "markdown",
   "metadata": {},
   "source": [
    "# Data"
   ]
  },
  {
   "cell_type": "code",
   "execution_count": null,
   "metadata": {},
   "outputs": [],
   "source": [
    "CORPUS_DF: pd.DataFrame = pd.read_xml(CORPUS_PATH, xpath=\"//tuv[@xml:lang]\")\n",
    "CORPUS_DF = CORPUS_DF.rename(columns={'seg': 'text'})\n",
    "\n",
    "CORPUS_DE_S: pd.Series = CORPUS_DF[CORPUS_DF['lang'].str.contains('de')]['text']\n",
    "CORPUS_EN_S: pd.Series = CORPUS_DF[CORPUS_DF['lang'].str.contains('en')]['text']"
   ]
  },
  {
   "cell_type": "markdown",
   "metadata": {},
   "source": [
    "# Sentiment Analysis (Inference)"
   ]
  },
  {
   "cell_type": "markdown",
   "metadata": {},
   "source": [
    "https://huggingface.co/nlptown/bert-base-multilingual-uncased-sentiment"
   ]
  },
  {
   "cell_type": "code",
   "execution_count": null,
   "metadata": {},
   "outputs": [],
   "source": [
    "TOKENIZER = AutoTokenizer.from_pretrained(\"nlptown/bert-base-multilingual-uncased-sentiment\") # TODO correct typing\n",
    "MODEL = AutoModelForSequenceClassification.from_pretrained(\"nlptown/bert-base-multilingual-uncased-sentiment\") # TODO correct typing"
   ]
  },
  {
   "cell_type": "code",
   "execution_count": null,
   "metadata": {},
   "outputs": [],
   "source": [
    "SENTIMENT_COLUMNS = ['-2', '-1', '0', '1', '2']"
   ]
  },
  {
   "cell_type": "code",
   "execution_count": null,
   "metadata": {},
   "outputs": [],
   "source": [
    "tqdm.pandas(desc='Progress German Texts:')\n",
    "de_sentiments_df: pd.DataFrame = CORPUS_DE_S.progress_apply(lambda text: hgf_sentiment_analyser(list(text), tokenizer=TOKENIZER, model=MODEL, device=DEVICE).tolist()[0]).apply(pd.Series)\n",
    "de_sentiments_df.columns = SENTIMENT_COLUMNS\n",
    "CORPUS_DE_DF: pd.DataFrame = pd.concat([CORPUS_DE_S, de_sentiments_df], axis=1)\n",
    "\n",
    "with CORPUS_DE_PATH.open('w') as de_file: \n",
    "    de_file.write(json.dumps(CORPUS_DE_DF['text'].tolist()))"
   ]
  },
  {
   "cell_type": "code",
   "execution_count": null,
   "metadata": {},
   "outputs": [],
   "source": [
    "tqdm.pandas(desc='Progress English Texts:')\n",
    "en_sentiments_df: pd.DataFrame = CORPUS_EN_S.progress_apply(lambda text: hgf_sentiment_analyser(list(text), tokenizer=TOKENIZER, model=MODEL, device=DEVICE).tolist()[0]).apply(pd.Series)\n",
    "en_sentiments_df.columns = SENTIMENT_COLUMNS\n",
    "CORPUS_EN_DF: pd.DataFrame = pd.concat([CORPUS_EN_S, en_sentiments_df], axis=1)\n",
    "\n",
    "with CORPUS_DE_PATH.open('w') as de_file, CORPUS_EN_PATH.open('w') as en_file: \n",
    "    de_file.write(json.dumps(CORPUS_DE_DF['text'].tolist()))"
   ]
  }
 ],
 "metadata": {
  "kernelspec": {
   "display_name": "Python 3",
   "language": "python",
   "name": "python3"
  },
  "language_info": {
   "codemirror_mode": {
    "name": "ipython",
    "version": 3
   },
   "file_extension": ".py",
   "mimetype": "text/x-python",
   "name": "python",
   "nbconvert_exporter": "python",
   "pygments_lexer": "ipython3",
   "version": "3.12.2"
  }
 },
 "nbformat": 4,
 "nbformat_minor": 2
}
